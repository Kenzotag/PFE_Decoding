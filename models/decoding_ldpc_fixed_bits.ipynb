{
 "cells": [
  {
   "cell_type": "code",
   "execution_count": 12,
   "id": "5c2f8a87",
   "metadata": {},
   "outputs": [],
   "source": [
    "import h5py\n",
    "import numpy as np\n",
    "from sklearn.model_selection import train_test_split\n",
    "\n",
    "dataset_path = r'C:\\Users\\CyberVortex\\PFE_Decoding\\dataset\\ldpc_dataset.h5'\n",
    "\n",
    "# Charger les données\n",
    "with h5py.File(dataset_path, 'r') as hf:\n",
    "    X = hf['code_word'][:]  # Signal reçu (shape: (40000, 200))\n",
    "    y = hf['message'][:]     # Bits d'info (shape: (40000, 100))"
   ]
  },
  {
   "cell_type": "code",
   "execution_count": 13,
   "id": "18d6adb7",
   "metadata": {},
   "outputs": [
    {
     "data": {
      "text/plain": [
       "(40000, 200)"
      ]
     },
     "execution_count": 13,
     "metadata": {},
     "output_type": "execute_result"
    }
   ],
   "source": [
    "X.shape"
   ]
  },
  {
   "cell_type": "code",
   "execution_count": 14,
   "id": "7b3a3635",
   "metadata": {},
   "outputs": [
    {
     "data": {
      "text/plain": [
       "(40000, 100)"
      ]
     },
     "execution_count": 14,
     "metadata": {},
     "output_type": "execute_result"
    }
   ],
   "source": [
    "y.shape"
   ]
  },
  {
   "cell_type": "code",
   "execution_count": 15,
   "id": "72c8bc26",
   "metadata": {},
   "outputs": [],
   "source": [
    "# Normalisation globale (calculée sur l'ensemble d'entraînement)\n",
    "X_mean = np.mean(X)\n",
    "X_std = np.std(X)\n",
    "X = (X - X_mean) / X_std"
   ]
  },
  {
   "cell_type": "code",
   "execution_count": 16,
   "id": "cb9876a3",
   "metadata": {},
   "outputs": [],
   "source": [
    "# Mélanger les données\n",
    "indices = np.random.permutation(len(X))\n",
    "X_shuffled = X[indices]\n",
    "y_shuffled = y[indices]\n",
    "\n",
    "# Séparation (80% train, 20% validation)\n",
    "X_train, X_val, y_train, y_val = train_test_split(X_shuffled, y_shuffled, test_size=0.2, random_state=42)"
   ]
  },
  {
   "cell_type": "code",
   "execution_count": 17,
   "id": "86981ed4",
   "metadata": {},
   "outputs": [],
   "source": [
    "# Redimensionner pour LSTM/Transformer (ajouter une dimension de canal)\n",
    "X_train_3d = X_train[..., np.newaxis]  # Shape: (32000, 200, 1)\n",
    "X_val_3d = X_val[..., np.newaxis]       # Shape: (8000, 200, 1)"
   ]
  },
  {
   "cell_type": "code",
   "execution_count": 20,
   "id": "3b1b846b",
   "metadata": {},
   "outputs": [],
   "source": [
    "from tensorflow.keras.layers import Input, LSTM, Dense\n",
    "from tensorflow.keras.models import Model\n",
    "\n",
    "# Paramètres\n",
    "input_shape = (200, 1)  # 200 symboles, 1 canal\n",
    "k = 100                  # Nombre de bits d'information\n",
    "\n",
    "# Architecture du modèle\n",
    "inputs = Input(shape=input_shape)\n",
    "x = LSTM(128, return_sequences=True)(inputs)\n",
    "x = LSTM(64)(x)\n",
    "outputs = Dense(k, activation='sigmoid')(x)  # k=100\n",
    "\n",
    "model = Model(inputs, outputs)"
   ]
  },
  {
   "cell_type": "code",
   "execution_count": 21,
   "id": "06a3814e",
   "metadata": {},
   "outputs": [],
   "source": [
    "import numpy as np\n",
    "\n",
    "# Redimensionner X pour qu'il ait 3 dimensions : (échantillons, pas de temps, caractéristiques)\n",
    "X = X.reshape((X.shape[0], X.shape[1], 1))  # Shape: (40000, 200, 1)"
   ]
  },
  {
   "cell_type": "code",
   "execution_count": 22,
   "id": "f9baf531",
   "metadata": {},
   "outputs": [
    {
     "name": "stdout",
     "output_type": "stream",
     "text": [
      "Epoch 1/10\n",
      "\u001b[1m250/250\u001b[0m \u001b[32m━━━━━━━━━━━━━━━━━━━━\u001b[0m\u001b[37m\u001b[0m \u001b[1m93s\u001b[0m 364ms/step - accuracy: 0.0067 - loss: 0.6932 - val_accuracy: 0.0024 - val_loss: 0.6932\n",
      "Epoch 2/10\n",
      "\u001b[1m250/250\u001b[0m \u001b[32m━━━━━━━━━━━━━━━━━━━━\u001b[0m\u001b[37m\u001b[0m \u001b[1m88s\u001b[0m 352ms/step - accuracy: 0.0056 - loss: 0.6932 - val_accuracy: 0.0031 - val_loss: 0.6932\n",
      "Epoch 3/10\n",
      "\u001b[1m250/250\u001b[0m \u001b[32m━━━━━━━━━━━━━━━━━━━━\u001b[0m\u001b[37m\u001b[0m \u001b[1m89s\u001b[0m 357ms/step - accuracy: 0.0150 - loss: 0.6932 - val_accuracy: 0.0000e+00 - val_loss: 0.6932\n",
      "Epoch 4/10\n",
      "\u001b[1m250/250\u001b[0m \u001b[32m━━━━━━━━━━━━━━━━━━━━\u001b[0m\u001b[37m\u001b[0m \u001b[1m90s\u001b[0m 362ms/step - accuracy: 0.0036 - loss: 0.6931 - val_accuracy: 0.0108 - val_loss: 0.6932\n",
      "Epoch 5/10\n",
      "\u001b[1m250/250\u001b[0m \u001b[32m━━━━━━━━━━━━━━━━━━━━\u001b[0m\u001b[37m\u001b[0m \u001b[1m91s\u001b[0m 363ms/step - accuracy: 0.0049 - loss: 0.6931 - val_accuracy: 0.0018 - val_loss: 0.6932\n",
      "Epoch 6/10\n",
      "\u001b[1m250/250\u001b[0m \u001b[32m━━━━━━━━━━━━━━━━━━━━\u001b[0m\u001b[37m\u001b[0m \u001b[1m115s\u001b[0m 462ms/step - accuracy: 0.0097 - loss: 0.6931 - val_accuracy: 0.0051 - val_loss: 0.6932\n",
      "Epoch 7/10\n",
      "\u001b[1m250/250\u001b[0m \u001b[32m━━━━━━━━━━━━━━━━━━━━\u001b[0m\u001b[37m\u001b[0m \u001b[1m104s\u001b[0m 415ms/step - accuracy: 0.0055 - loss: 0.6931 - val_accuracy: 0.0040 - val_loss: 0.6932\n",
      "Epoch 8/10\n",
      "\u001b[1m250/250\u001b[0m \u001b[32m━━━━━━━━━━━━━━━━━━━━\u001b[0m\u001b[37m\u001b[0m \u001b[1m91s\u001b[0m 363ms/step - accuracy: 0.0050 - loss: 0.6931 - val_accuracy: 0.0195 - val_loss: 0.6932\n",
      "Epoch 9/10\n",
      "\u001b[1m250/250\u001b[0m \u001b[32m━━━━━━━━━━━━━━━━━━━━\u001b[0m\u001b[37m\u001b[0m \u001b[1m94s\u001b[0m 377ms/step - accuracy: 0.0116 - loss: 0.6931 - val_accuracy: 0.0103 - val_loss: 0.6932\n",
      "Epoch 10/10\n",
      "\u001b[1m250/250\u001b[0m \u001b[32m━━━━━━━━━━━━━━━━━━━━\u001b[0m\u001b[37m\u001b[0m \u001b[1m100s\u001b[0m 399ms/step - accuracy: 0.0098 - loss: 0.6931 - val_accuracy: 0.0158 - val_loss: 0.6932\n"
     ]
    }
   ],
   "source": [
    "model.compile(\n",
    "    optimizer='adam',\n",
    "    loss='binary_crossentropy',  # Pour une classification binaire bit à bit\n",
    "    metrics=['accuracy']\n",
    ")\n",
    "\n",
    "# Entraînement\n",
    "history = model.fit(\n",
    "    X, y,\n",
    "    batch_size=128,\n",
    "    epochs=10,\n",
    "    validation_split=0.2  # 80% train, 20% validation\n",
    ")"
   ]
  },
  {
   "cell_type": "code",
   "execution_count": null,
   "id": "11fe249b",
   "metadata": {},
   "outputs": [],
   "source": []
  }
 ],
 "metadata": {
  "kernelspec": {
   "display_name": "Python (tensorflow_env)",
   "language": "python",
   "name": "tensorflow_env"
  },
  "language_info": {
   "codemirror_mode": {
    "name": "ipython",
    "version": 3
   },
   "file_extension": ".py",
   "mimetype": "text/x-python",
   "name": "python",
   "nbconvert_exporter": "python",
   "pygments_lexer": "ipython3",
   "version": "3.12.3"
  }
 },
 "nbformat": 4,
 "nbformat_minor": 5
}
