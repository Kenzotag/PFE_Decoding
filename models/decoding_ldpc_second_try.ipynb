{
 "cells": [
  {
   "cell_type": "code",
   "execution_count": 2,
   "id": "b50ada39",
   "metadata": {},
   "outputs": [],
   "source": [
    "#Chargement et Préparation des Données\n",
    "\n",
    "import numpy as np\n",
    "import h5py\n",
    "from sklearn.model_selection import train_test_split\n",
    "\n",
    "# Charger les données\n",
    "with h5py.File(r'C:\\Users\\CyberVortex\\PFE_Decoding\\dataset\\ldpc_dataset.h5', 'r') as hf:\n",
    "    X = hf['code_word'][:]  # (40000, 200)\n",
    "    y = hf['message'][:]     # (40000, 100)\n",
    "\n",
    "# Normalisation globale\n",
    "X_mean, X_std = np.mean(X), np.std(X)\n",
    "X = (X - X_mean) / X_std\n",
    "\n",
    "# Séparation entraînement/validation (80/20)\n",
    "X_train, X_val, y_train, y_val = train_test_split(X, y, test_size=0.2, random_state=42)\n",
    "\n",
    "# Redimensionner pour les RNN (ajouter une dimension de canal)\n",
    "X_train = X_train[..., np.newaxis]  # (32000, 200, 1)\n",
    "X_val = X_val[..., np.newaxis]       # (8000, 200, 1)"
   ]
  },
  {
   "cell_type": "code",
   "execution_count": 3,
   "id": "8a17e195",
   "metadata": {},
   "outputs": [],
   "source": [
    "# Architecture du Modèle \n",
    "\n",
    "from tensorflow.keras.layers import Input, Bidirectional, LSTM, Dense, Dropout\n",
    "from tensorflow.keras.models import Model\n",
    "from tensorflow.keras.regularizers import l2\n",
    "\n",
    "def build_model(input_shape=(200, 1), k=100):\n",
    "    inputs = Input(shape=input_shape)\n",
    "    x = Bidirectional(LSTM(128, return_sequences=True, kernel_regularizer=l2(0.01)))(inputs)\n",
    "    x = Dropout(0.3)(x)\n",
    "    x = Bidirectional(LSTM(64, kernel_regularizer=l2(0.01)))(x)\n",
    "    x = Dropout(0.3)(x)\n",
    "    outputs = Dense(k, activation='sigmoid')(x)\n",
    "    return Model(inputs, outputs)\n",
    "\n",
    "model = build_model()"
   ]
  },
  {
   "cell_type": "code",
   "execution_count": 6,
   "id": "6fb6e15d",
   "metadata": {},
   "outputs": [],
   "source": [
    "#Métriques Personnalisées (BER, FER)\n",
    "\n",
    "import tensorflow as tf\n",
    "\n",
    "def ber(y_true, y_pred):\n",
    "    \"\"\"Bit Error Rate (BER)\"\"\"\n",
    "    y_true = tf.cast(y_true, tf.float32)  # Convertir y_true en float32\n",
    "    errors = tf.cast(y_true != tf.round(y_pred), tf.float32)\n",
    "    return tf.reduce_mean(errors)\n",
    "\n",
    "def fer(y_true, y_pred):\n",
    "    \"\"\"Frame Error Rate (FER)\"\"\"\n",
    "    y_true = tf.cast(y_true, tf.float32)  # Convertir y_true en float32\n",
    "    frame_errors = tf.cast(tf.reduce_any(y_true != tf.round(y_pred), axis=1), tf.float32)\n",
    "    return tf.reduce_mean(frame_errors)"
   ]
  },
  {
   "cell_type": "code",
   "execution_count": null,
   "id": "0f52ab12",
   "metadata": {},
   "outputs": [
    {
     "name": "stdout",
     "output_type": "stream",
     "text": [
      "Epoch 1/50\n",
      "\u001b[1m250/250\u001b[0m \u001b[32m━━━━━━━━━━━━━━━━━━━━\u001b[0m\u001b[37m\u001b[0m \u001b[1m0s\u001b[0m 1s/step - accuracy: 0.0393 - ber: 0.4573 - fer: 1.0000 - loss: 0.6869"
     ]
    },
    {
     "name": "stderr",
     "output_type": "stream",
     "text": [
      "WARNING:absl:You are saving your model as an HDF5 file via `model.save()` or `keras.saving.save_model(model)`. This file format is considered legacy. We recommend using instead the native Keras format, e.g. `model.save('my_model.keras')` or `keras.saving.save_model(model, 'my_model.keras')`. \n"
     ]
    },
    {
     "name": "stdout",
     "output_type": "stream",
     "text": [
      "\u001b[1m250/250\u001b[0m \u001b[32m━━━━━━━━━━━━━━━━━━━━\u001b[0m\u001b[37m\u001b[0m \u001b[1m303s\u001b[0m 1s/step - accuracy: 0.0393 - ber: 0.4573 - fer: 1.0000 - loss: 0.6869 - val_accuracy: 0.0816 - val_ber: 0.4406 - val_fer: 1.0000 - val_loss: 0.6827 - learning_rate: 0.0010\n",
      "Epoch 2/50\n",
      "\u001b[1m250/250\u001b[0m \u001b[32m━━━━━━━━━━━━━━━━━━━━\u001b[0m\u001b[37m\u001b[0m \u001b[1m0s\u001b[0m 1s/step - accuracy: 0.0516 - ber: 0.4419 - fer: 1.0000 - loss: 0.6831"
     ]
    },
    {
     "name": "stderr",
     "output_type": "stream",
     "text": [
      "WARNING:absl:You are saving your model as an HDF5 file via `model.save()` or `keras.saving.save_model(model)`. This file format is considered legacy. We recommend using instead the native Keras format, e.g. `model.save('my_model.keras')` or `keras.saving.save_model(model, 'my_model.keras')`. \n"
     ]
    },
    {
     "name": "stdout",
     "output_type": "stream",
     "text": [
      "\u001b[1m250/250\u001b[0m \u001b[32m━━━━━━━━━━━━━━━━━━━━\u001b[0m\u001b[37m\u001b[0m \u001b[1m264s\u001b[0m 1s/step - accuracy: 0.0516 - ber: 0.4419 - fer: 1.0000 - loss: 0.6831 - val_accuracy: 0.0531 - val_ber: 0.4341 - val_fer: 1.0000 - val_loss: 0.6806 - learning_rate: 0.0010\n",
      "Epoch 3/50\n",
      "\u001b[1m250/250\u001b[0m \u001b[32m━━━━━━━━━━━━━━━━━━━━\u001b[0m\u001b[37m\u001b[0m \u001b[1m0s\u001b[0m 1s/step - accuracy: 0.0530 - ber: 0.4352 - fer: 1.0000 - loss: 0.6811"
     ]
    },
    {
     "name": "stderr",
     "output_type": "stream",
     "text": [
      "WARNING:absl:You are saving your model as an HDF5 file via `model.save()` or `keras.saving.save_model(model)`. This file format is considered legacy. We recommend using instead the native Keras format, e.g. `model.save('my_model.keras')` or `keras.saving.save_model(model, 'my_model.keras')`. \n"
     ]
    },
    {
     "name": "stdout",
     "output_type": "stream",
     "text": [
      "\u001b[1m250/250\u001b[0m \u001b[32m━━━━━━━━━━━━━━━━━━━━\u001b[0m\u001b[37m\u001b[0m \u001b[1m271s\u001b[0m 1s/step - accuracy: 0.0530 - ber: 0.4352 - fer: 1.0000 - loss: 0.6811 - val_accuracy: 0.0536 - val_ber: 0.4312 - val_fer: 1.0000 - val_loss: 0.6797 - learning_rate: 0.0010\n",
      "Epoch 4/50\n",
      "\u001b[1m250/250\u001b[0m \u001b[32m━━━━━━━━━━━━━━━━━━━━\u001b[0m\u001b[37m\u001b[0m \u001b[1m0s\u001b[0m 1s/step - accuracy: 0.0550 - ber: 0.4319 - fer: 1.0000 - loss: 0.6800"
     ]
    },
    {
     "name": "stderr",
     "output_type": "stream",
     "text": [
      "WARNING:absl:You are saving your model as an HDF5 file via `model.save()` or `keras.saving.save_model(model)`. This file format is considered legacy. We recommend using instead the native Keras format, e.g. `model.save('my_model.keras')` or `keras.saving.save_model(model, 'my_model.keras')`. \n"
     ]
    },
    {
     "name": "stdout",
     "output_type": "stream",
     "text": [
      "\u001b[1m250/250\u001b[0m \u001b[32m━━━━━━━━━━━━━━━━━━━━\u001b[0m\u001b[37m\u001b[0m \u001b[1m276s\u001b[0m 1s/step - accuracy: 0.0551 - ber: 0.4319 - fer: 1.0000 - loss: 0.6800 - val_accuracy: 0.0766 - val_ber: 0.4278 - val_fer: 1.0000 - val_loss: 0.6783 - learning_rate: 0.0010\n",
      "Epoch 5/50\n",
      "\u001b[1m250/250\u001b[0m \u001b[32m━━━━━━━━━━━━━━━━━━━━\u001b[0m\u001b[37m\u001b[0m \u001b[1m0s\u001b[0m 1s/step - accuracy: 0.0604 - ber: 0.4306 - fer: 1.0000 - loss: 0.6794"
     ]
    },
    {
     "name": "stderr",
     "output_type": "stream",
     "text": [
      "WARNING:absl:You are saving your model as an HDF5 file via `model.save()` or `keras.saving.save_model(model)`. This file format is considered legacy. We recommend using instead the native Keras format, e.g. `model.save('my_model.keras')` or `keras.saving.save_model(model, 'my_model.keras')`. \n"
     ]
    },
    {
     "name": "stdout",
     "output_type": "stream",
     "text": [
      "\u001b[1m250/250\u001b[0m \u001b[32m━━━━━━━━━━━━━━━━━━━━\u001b[0m\u001b[37m\u001b[0m \u001b[1m287s\u001b[0m 1s/step - accuracy: 0.0604 - ber: 0.4306 - fer: 1.0000 - loss: 0.6794 - val_accuracy: 0.0558 - val_ber: 0.4268 - val_fer: 1.0000 - val_loss: 0.6781 - learning_rate: 0.0010\n",
      "Epoch 6/50\n",
      "\u001b[1m250/250\u001b[0m \u001b[32m━━━━━━━━━━━━━━━━━━━━\u001b[0m\u001b[37m\u001b[0m \u001b[1m0s\u001b[0m 1s/step - accuracy: 0.0683 - ber: 0.4285 - fer: 1.0000 - loss: 0.6788"
     ]
    },
    {
     "name": "stderr",
     "output_type": "stream",
     "text": [
      "WARNING:absl:You are saving your model as an HDF5 file via `model.save()` or `keras.saving.save_model(model)`. This file format is considered legacy. We recommend using instead the native Keras format, e.g. `model.save('my_model.keras')` or `keras.saving.save_model(model, 'my_model.keras')`. \n"
     ]
    },
    {
     "name": "stdout",
     "output_type": "stream",
     "text": [
      "\u001b[1m250/250\u001b[0m \u001b[32m━━━━━━━━━━━━━━━━━━━━\u001b[0m\u001b[37m\u001b[0m \u001b[1m291s\u001b[0m 1s/step - accuracy: 0.0683 - ber: 0.4285 - fer: 1.0000 - loss: 0.6788 - val_accuracy: 0.0650 - val_ber: 0.4255 - val_fer: 1.0000 - val_loss: 0.6776 - learning_rate: 0.0010\n",
      "Epoch 7/50\n",
      "\u001b[1m111/250\u001b[0m \u001b[32m━━━━━━━━\u001b[0m\u001b[37m━━━━━━━━━━━━\u001b[0m \u001b[1m2:44\u001b[0m 1s/step - accuracy: 0.0618 - ber: 0.4257 - fer: 1.0000 - loss: 0.6778"
     ]
    }
   ],
   "source": [
    "#Compilation et Entraînement avec Callbacks\n",
    "\n",
    "from tensorflow.keras.callbacks import EarlyStopping, ReduceLROnPlateau, ModelCheckpoint\n",
    "\n",
    "\n",
    "# Compiler le modèle\n",
    "model.compile(\n",
    "    optimizer='adam',\n",
    "    loss='binary_crossentropy',\n",
    "    metrics=[ber, fer, 'accuracy']\n",
    ")\n",
    "\n",
    "from tensorflow.keras.callbacks import EarlyStopping, ReduceLROnPlateau, ModelCheckpoint\n",
    "\n",
    "# Callbacks\n",
    "callbacks = [\n",
    "    EarlyStopping(\n",
    "        patience=5, \n",
    "        restore_best_weights=True, \n",
    "        monitor='val_ber', \n",
    "        mode='min'  # <-- Ajoutez ceci\n",
    "    ),\n",
    "    ReduceLROnPlateau(\n",
    "        factor=0.2, \n",
    "        patience=3, \n",
    "        monitor='val_loss', \n",
    "        mode='min'  # <-- Ajoutez ceci\n",
    "    ),\n",
    "    ModelCheckpoint(\n",
    "        'best_model.h5', \n",
    "        save_best_only=True, \n",
    "        monitor='val_ber', \n",
    "        mode='min'  # <-- Ajoutez ceci\n",
    "    )\n",
    "]\n",
    "\n",
    "# Entraînement\n",
    "history = model.fit(\n",
    "    X_train, y_train,\n",
    "    epochs=50,\n",
    "    batch_size=128,\n",
    "    validation_data=(X_val, y_val),\n",
    "    callbacks=callbacks\n",
    ")"
   ]
  },
  {
   "cell_type": "code",
   "execution_count": null,
   "id": "7e4f5e35",
   "metadata": {},
   "outputs": [],
   "source": []
  }
 ],
 "metadata": {
  "kernelspec": {
   "display_name": "Python (tensorflow_env)",
   "language": "python",
   "name": "tensorflow_env"
  },
  "language_info": {
   "codemirror_mode": {
    "name": "ipython",
    "version": 3
   },
   "file_extension": ".py",
   "mimetype": "text/x-python",
   "name": "python",
   "nbconvert_exporter": "python",
   "pygments_lexer": "ipython3",
   "version": "3.12.3"
  }
 },
 "nbformat": 4,
 "nbformat_minor": 5
}
