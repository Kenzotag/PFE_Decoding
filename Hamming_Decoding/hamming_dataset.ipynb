{
 "cells": [
  {
   "cell_type": "code",
   "execution_count": 1,
   "id": "5855782b",
   "metadata": {},
   "outputs": [
    {
     "name": "stdout",
     "output_type": "stream",
     "text": [
      "Entrée: [0, 0, 0, 0, 0, 0, 0], Sortie: [0, 0, 0, 0]\n",
      "Entrée: [0, 0, 0, 0, 0, 0, 1], Sortie: [0, 0, 0, 0]\n",
      "Entrée: [1, 1, 0, 1, 0, 0, 1], Sortie: [0, 0, 0, 1]\n",
      "Entrée: [1, 1, 0, 0, 0, 0, 1], Sortie: [0, 0, 0, 1]\n",
      "Entrée: [0, 1, 0, 1, 0, 1, 0], Sortie: [0, 0, 1, 0]\n"
     ]
    }
   ],
   "source": [
    "import itertools\n",
    "import random\n",
    "import pandas as pd\n",
    "\n",
    "# Fonction pour calculer les bits de parité\n",
    "def calculate_parity_bits(data):\n",
    "    d1, d2, d3, d4 = data\n",
    "    p1 = d1 ^ d2 ^ d4\n",
    "    p2 = d1 ^ d3 ^ d4\n",
    "    p3 = d2 ^ d3 ^ d4\n",
    "    return p1, p2, p3\n",
    "\n",
    "# Fonction pour générer un mot de code Hamming (7,4)\n",
    "def generate_hamming_code(data):\n",
    "    p1, p2, p3 = calculate_parity_bits(data)\n",
    "    return [p1, p2, data[0], p3, data[1], data[2], data[3]]\n",
    "\n",
    "# Fonction pour introduire des erreurs dans un mot de code\n",
    "def introduce_error(code, num_errors=1):\n",
    "    code = code.copy()\n",
    "    error_positions = random.sample(range(7), num_errors)\n",
    "    for pos in error_positions:\n",
    "        code[pos] ^= 1  # Inverser le bit\n",
    "    return code\n",
    "\n",
    "# Générer toutes les combinaisons de 4 bits de données\n",
    "all_data = list(itertools.product([0, 1], repeat=4))\n",
    "\n",
    "# Générer la base de données\n",
    "dataset = []\n",
    "for data in all_data:\n",
    "    code = generate_hamming_code(data)\n",
    "    # Ajouter des échantillons sans erreur\n",
    "    dataset.append((code, list(data)))\n",
    "    # Ajouter des échantillons avec une erreur\n",
    "    code_with_error = introduce_error(code, num_errors=1)\n",
    "    dataset.append((code_with_error, list(data)))\n",
    "\n",
    "# Afficher quelques échantillons pour vérification\n",
    "for i in range(5):\n",
    "    print(f\"Entrée: {dataset[i][0]}, Sortie: {dataset[i][1]}\")"
   ]
  },
  {
   "cell_type": "code",
   "execution_count": 4,
   "id": "02764ef1-f742-4163-850a-9755006de56a",
   "metadata": {},
   "outputs": [
    {
     "ename": "ImportError",
     "evalue": "cannot import name 'HammingCode' from 'ecc' (C:\\Users\\CyberVortex\\anaconda3\\Lib\\site-packages\\ecc\\__init__.py)",
     "output_type": "error",
     "traceback": [
      "\u001b[1;31m---------------------------------------------------------------------------\u001b[0m",
      "\u001b[1;31mImportError\u001b[0m                               Traceback (most recent call last)",
      "Cell \u001b[1;32mIn[4], line 1\u001b[0m\n\u001b[1;32m----> 1\u001b[0m \u001b[38;5;28;01mfrom\u001b[39;00m \u001b[38;5;21;01mecc\u001b[39;00m \u001b[38;5;28;01mimport\u001b[39;00m HammingCode\n\u001b[0;32m      3\u001b[0m hamming \u001b[38;5;241m=\u001b[39m HammingCode(\u001b[38;5;241m3\u001b[39m)  \u001b[38;5;66;03m# Hamming(7,4)\u001b[39;00m\n\u001b[0;32m      4\u001b[0m data \u001b[38;5;241m=\u001b[39m [\u001b[38;5;241m1\u001b[39m, \u001b[38;5;241m0\u001b[39m, \u001b[38;5;241m1\u001b[39m, \u001b[38;5;241m1\u001b[39m]\n",
      "\u001b[1;31mImportError\u001b[0m: cannot import name 'HammingCode' from 'ecc' (C:\\Users\\CyberVortex\\anaconda3\\Lib\\site-packages\\ecc\\__init__.py)"
     ]
    }
   ],
   "source": [
    "from ecc import HammingCode\n",
    "\n",
    "hamming = HammingCode(3)  # Hamming(7,4)\n",
    "data = [1, 0, 1, 1]\n",
    "\n",
    "# Encoder\n",
    "encoded_data = hamming.encode(data)\n",
    "print(f\"Encoded: {encoded_data}\")\n",
    "\n",
    "# Décoder\n",
    "decoded_data = hamming.decode(encoded_data)\n",
    "print(f\"Decoded: {decoded_data}\")"
   ]
  },
  {
   "cell_type": "code",
   "execution_count": 2,
   "id": "f34f6c64",
   "metadata": {},
   "outputs": [
    {
     "name": "stdout",
     "output_type": "stream",
     "text": [
      "                  Entree        Sortie\n",
      "0  [0, 0, 0, 0, 0, 0, 0]  [0, 0, 0, 0]\n",
      "1  [0, 0, 0, 1, 0, 0, 0]  [0, 0, 0, 0]\n",
      "2  [1, 1, 0, 1, 0, 0, 1]  [0, 0, 0, 1]\n",
      "3  [1, 1, 0, 1, 0, 0, 0]  [0, 0, 0, 1]\n",
      "4  [0, 1, 0, 1, 0, 1, 0]  [0, 0, 1, 0]\n"
     ]
    }
   ],
   "source": [
    "# Convertir la base de données en DataFrame\n",
    "df = pd.DataFrame(dataset, columns=[\"Entree\", \"Sortie\"])\n",
    "\n",
    "# Afficher les premières lignes du DataFrame\n",
    "print(df.head())"
   ]
  },
  {
   "cell_type": "code",
   "execution_count": 3,
   "id": "272bc63a",
   "metadata": {},
   "outputs": [
    {
     "name": "stdout",
     "output_type": "stream",
     "text": [
      "Base de données exportée en CSV.\n"
     ]
    }
   ],
   "source": [
    "# Exporter en CSV\n",
    "df.to_csv(\"hamming_dataset.csv\", index=False)\n",
    "print(\"Base de données exportée en CSV.\")"
   ]
  },
  {
   "cell_type": "code",
   "execution_count": 4,
   "id": "a0a4ff97",
   "metadata": {},
   "outputs": [
    {
     "name": "stdout",
     "output_type": "stream",
     "text": [
      "                  Entree        Sortie\n",
      "0  [0, 0, 0, 0, 0, 0, 0]  [0, 0, 0, 0]\n",
      "1  [0, 0, 0, 1, 0, 0, 0]  [0, 0, 0, 0]\n",
      "2  [1, 1, 0, 1, 0, 0, 1]  [0, 0, 0, 1]\n",
      "3  [1, 1, 0, 1, 0, 0, 0]  [0, 0, 0, 1]\n",
      "4  [0, 1, 0, 1, 0, 1, 0]  [0, 0, 1, 0]\n"
     ]
    }
   ],
   "source": [
    "import pandas as pd\n",
    "\n",
    "# Charger le fichier CSV\n",
    "df = pd.read_csv(\"hamming_dataset.csv\")\n",
    "\n",
    "# Afficher les premières lignes\n",
    "print(df.head())"
   ]
  },
  {
   "cell_type": "code",
   "execution_count": 5,
   "id": "4277c473",
   "metadata": {},
   "outputs": [
    {
     "name": "stdout",
     "output_type": "stream",
     "text": [
      "Forme de X (entrées) : (32, 7)\n",
      "Forme de y (sorties) : (32, 4)\n"
     ]
    }
   ],
   "source": [
    "import numpy as np\n",
    "\n",
    "# Séparer les entrées et les sorties\n",
    "X = np.array([sample[0] for sample in dataset])  # Entrées (7 bits)\n",
    "y = np.array([sample[1] for sample in dataset])  # Sorties (4 bits)\n",
    "\n",
    "# Afficher les formes des tableaux pour vérification\n",
    "print(\"Forme de X (entrées) :\", X.shape)  # Doit être (nombre d'échantillons, 7)\n",
    "print(\"Forme de y (sorties) :\", y.shape)  # Doit être (nombre d'échantillons, 4)"
   ]
  },
  {
   "cell_type": "code",
   "execution_count": 6,
   "id": "9d4ded2f",
   "metadata": {},
   "outputs": [
    {
     "name": "stdout",
     "output_type": "stream",
     "text": [
      "Forme de X_train : (25, 7)\n",
      "Forme de X_test : (7, 7)\n",
      "Forme de y_train : (25, 4)\n",
      "Forme de y_test : (7, 4)\n"
     ]
    }
   ],
   "source": [
    "from sklearn.model_selection import train_test_split\n",
    "\n",
    "# Diviser les données : 80% pour l'entraînement, 20% pour le test\n",
    "X_train, X_test, y_train, y_test = train_test_split(X, y, test_size=0.2, random_state=42)\n",
    "\n",
    "# Afficher les formes des ensembles\n",
    "print(\"Forme de X_train :\", X_train.shape)\n",
    "print(\"Forme de X_test :\", X_test.shape)\n",
    "print(\"Forme de y_train :\", y_train.shape)\n",
    "print(\"Forme de y_test :\", y_test.shape)"
   ]
  },
  {
   "cell_type": "code",
   "execution_count": 7,
   "id": "10647175",
   "metadata": {},
   "outputs": [
    {
     "name": "stderr",
     "output_type": "stream",
     "text": [
      "C:\\Users\\CyberVortex\\anaconda3\\Lib\\site-packages\\keras\\src\\layers\\core\\dense.py:87: UserWarning: Do not pass an `input_shape`/`input_dim` argument to a layer. When using Sequential models, prefer using an `Input(shape)` object as the first layer in the model instead.\n",
      "  super().__init__(activity_regularizer=activity_regularizer, **kwargs)\n"
     ]
    },
    {
     "data": {
      "text/html": [
       "<pre style=\"white-space:pre;overflow-x:auto;line-height:normal;font-family:Menlo,'DejaVu Sans Mono',consolas,'Courier New',monospace\"><span style=\"font-weight: bold\">Model: \"sequential\"</span>\n",
       "</pre>\n"
      ],
      "text/plain": [
       "\u001b[1mModel: \"sequential\"\u001b[0m\n"
      ]
     },
     "metadata": {},
     "output_type": "display_data"
    },
    {
     "data": {
      "text/html": [
       "<pre style=\"white-space:pre;overflow-x:auto;line-height:normal;font-family:Menlo,'DejaVu Sans Mono',consolas,'Courier New',monospace\">┏━━━━━━━━━━━━━━━━━━━━━━━━━━━━━━━━━┳━━━━━━━━━━━━━━━━━━━━━━━━┳━━━━━━━━━━━━━━━┓\n",
       "┃<span style=\"font-weight: bold\"> Layer (type)                    </span>┃<span style=\"font-weight: bold\"> Output Shape           </span>┃<span style=\"font-weight: bold\">       Param # </span>┃\n",
       "┡━━━━━━━━━━━━━━━━━━━━━━━━━━━━━━━━━╇━━━━━━━━━━━━━━━━━━━━━━━━╇━━━━━━━━━━━━━━━┩\n",
       "│ dense (<span style=\"color: #0087ff; text-decoration-color: #0087ff\">Dense</span>)                   │ (<span style=\"color: #00d7ff; text-decoration-color: #00d7ff\">None</span>, <span style=\"color: #00af00; text-decoration-color: #00af00\">16</span>)             │           <span style=\"color: #00af00; text-decoration-color: #00af00\">128</span> │\n",
       "├─────────────────────────────────┼────────────────────────┼───────────────┤\n",
       "│ dense_1 (<span style=\"color: #0087ff; text-decoration-color: #0087ff\">Dense</span>)                 │ (<span style=\"color: #00d7ff; text-decoration-color: #00d7ff\">None</span>, <span style=\"color: #00af00; text-decoration-color: #00af00\">8</span>)              │           <span style=\"color: #00af00; text-decoration-color: #00af00\">136</span> │\n",
       "├─────────────────────────────────┼────────────────────────┼───────────────┤\n",
       "│ dense_2 (<span style=\"color: #0087ff; text-decoration-color: #0087ff\">Dense</span>)                 │ (<span style=\"color: #00d7ff; text-decoration-color: #00d7ff\">None</span>, <span style=\"color: #00af00; text-decoration-color: #00af00\">4</span>)              │            <span style=\"color: #00af00; text-decoration-color: #00af00\">36</span> │\n",
       "└─────────────────────────────────┴────────────────────────┴───────────────┘\n",
       "</pre>\n"
      ],
      "text/plain": [
       "┏━━━━━━━━━━━━━━━━━━━━━━━━━━━━━━━━━┳━━━━━━━━━━━━━━━━━━━━━━━━┳━━━━━━━━━━━━━━━┓\n",
       "┃\u001b[1m \u001b[0m\u001b[1mLayer (type)                   \u001b[0m\u001b[1m \u001b[0m┃\u001b[1m \u001b[0m\u001b[1mOutput Shape          \u001b[0m\u001b[1m \u001b[0m┃\u001b[1m \u001b[0m\u001b[1m      Param #\u001b[0m\u001b[1m \u001b[0m┃\n",
       "┡━━━━━━━━━━━━━━━━━━━━━━━━━━━━━━━━━╇━━━━━━━━━━━━━━━━━━━━━━━━╇━━━━━━━━━━━━━━━┩\n",
       "│ dense (\u001b[38;5;33mDense\u001b[0m)                   │ (\u001b[38;5;45mNone\u001b[0m, \u001b[38;5;34m16\u001b[0m)             │           \u001b[38;5;34m128\u001b[0m │\n",
       "├─────────────────────────────────┼────────────────────────┼───────────────┤\n",
       "│ dense_1 (\u001b[38;5;33mDense\u001b[0m)                 │ (\u001b[38;5;45mNone\u001b[0m, \u001b[38;5;34m8\u001b[0m)              │           \u001b[38;5;34m136\u001b[0m │\n",
       "├─────────────────────────────────┼────────────────────────┼───────────────┤\n",
       "│ dense_2 (\u001b[38;5;33mDense\u001b[0m)                 │ (\u001b[38;5;45mNone\u001b[0m, \u001b[38;5;34m4\u001b[0m)              │            \u001b[38;5;34m36\u001b[0m │\n",
       "└─────────────────────────────────┴────────────────────────┴───────────────┘\n"
      ]
     },
     "metadata": {},
     "output_type": "display_data"
    },
    {
     "data": {
      "text/html": [
       "<pre style=\"white-space:pre;overflow-x:auto;line-height:normal;font-family:Menlo,'DejaVu Sans Mono',consolas,'Courier New',monospace\"><span style=\"font-weight: bold\"> Total params: </span><span style=\"color: #00af00; text-decoration-color: #00af00\">300</span> (1.17 KB)\n",
       "</pre>\n"
      ],
      "text/plain": [
       "\u001b[1m Total params: \u001b[0m\u001b[38;5;34m300\u001b[0m (1.17 KB)\n"
      ]
     },
     "metadata": {},
     "output_type": "display_data"
    },
    {
     "data": {
      "text/html": [
       "<pre style=\"white-space:pre;overflow-x:auto;line-height:normal;font-family:Menlo,'DejaVu Sans Mono',consolas,'Courier New',monospace\"><span style=\"font-weight: bold\"> Trainable params: </span><span style=\"color: #00af00; text-decoration-color: #00af00\">300</span> (1.17 KB)\n",
       "</pre>\n"
      ],
      "text/plain": [
       "\u001b[1m Trainable params: \u001b[0m\u001b[38;5;34m300\u001b[0m (1.17 KB)\n"
      ]
     },
     "metadata": {},
     "output_type": "display_data"
    },
    {
     "data": {
      "text/html": [
       "<pre style=\"white-space:pre;overflow-x:auto;line-height:normal;font-family:Menlo,'DejaVu Sans Mono',consolas,'Courier New',monospace\"><span style=\"font-weight: bold\"> Non-trainable params: </span><span style=\"color: #00af00; text-decoration-color: #00af00\">0</span> (0.00 B)\n",
       "</pre>\n"
      ],
      "text/plain": [
       "\u001b[1m Non-trainable params: \u001b[0m\u001b[38;5;34m0\u001b[0m (0.00 B)\n"
      ]
     },
     "metadata": {},
     "output_type": "display_data"
    }
   ],
   "source": [
    "from tensorflow.keras.models import Sequential\n",
    "from tensorflow.keras.layers import Dense\n",
    "\n",
    "# Créer le modèle\n",
    "model = Sequential([\n",
    "    Dense(16, input_dim=7, activation='relu'),  # Couche cachée avec 16 neurones\n",
    "    Dense(8, activation='relu'),               # Couche cachée avec 8 neurones\n",
    "    Dense(4, activation='sigmoid')             # Couche de sortie avec 4 neurones\n",
    "])\n",
    "\n",
    "# Afficher un résumé du modèle\n",
    "model.summary()"
   ]
  },
  {
   "cell_type": "code",
   "execution_count": 8,
   "id": "a8ab878d",
   "metadata": {},
   "outputs": [],
   "source": [
    "model.compile(optimizer='adam',                # Optimiseur Adam\n",
    "              loss='binary_crossentropy',      # Fonction de perte pour des sorties binaires\n",
    "              metrics=['accuracy'])            # Métrique : précision"
   ]
  },
  {
   "cell_type": "code",
   "execution_count": 9,
   "id": "87c0b801",
   "metadata": {},
   "outputs": [
    {
     "name": "stdout",
     "output_type": "stream",
     "text": [
      "Epoch 1/50\n",
      "\u001b[1m2/2\u001b[0m \u001b[32m━━━━━━━━━━━━━━━━━━━━\u001b[0m\u001b[37m\u001b[0m \u001b[1m2s\u001b[0m 335ms/step - accuracy: 0.2225 - loss: 0.7045 - val_accuracy: 0.2857 - val_loss: 0.6802\n",
      "Epoch 2/50\n",
      "\u001b[1m2/2\u001b[0m \u001b[32m━━━━━━━━━━━━━━━━━━━━\u001b[0m\u001b[37m\u001b[0m \u001b[1m0s\u001b[0m 78ms/step - accuracy: 0.2375 - loss: 0.6939 - val_accuracy: 0.2857 - val_loss: 0.6803\n",
      "Epoch 3/50\n",
      "\u001b[1m2/2\u001b[0m \u001b[32m━━━━━━━━━━━━━━━━━━━━\u001b[0m\u001b[37m\u001b[0m \u001b[1m0s\u001b[0m 88ms/step - accuracy: 0.1483 - loss: 0.6979 - val_accuracy: 0.2857 - val_loss: 0.6808\n",
      "Epoch 4/50\n",
      "\u001b[1m2/2\u001b[0m \u001b[32m━━━━━━━━━━━━━━━━━━━━\u001b[0m\u001b[37m\u001b[0m \u001b[1m0s\u001b[0m 72ms/step - accuracy: 0.1483 - loss: 0.6951 - val_accuracy: 0.2857 - val_loss: 0.6810\n",
      "Epoch 5/50\n",
      "\u001b[1m2/2\u001b[0m \u001b[32m━━━━━━━━━━━━━━━━━━━━\u001b[0m\u001b[37m\u001b[0m \u001b[1m0s\u001b[0m 89ms/step - accuracy: 0.1692 - loss: 0.6903 - val_accuracy: 0.2857 - val_loss: 0.6813\n",
      "Epoch 6/50\n",
      "\u001b[1m2/2\u001b[0m \u001b[32m━━━━━━━━━━━━━━━━━━━━\u001b[0m\u001b[37m\u001b[0m \u001b[1m0s\u001b[0m 89ms/step - accuracy: 0.0800 - loss: 0.6919 - val_accuracy: 0.2857 - val_loss: 0.6817\n",
      "Epoch 7/50\n",
      "\u001b[1m2/2\u001b[0m \u001b[32m━━━━━━━━━━━━━━━━━━━━\u001b[0m\u001b[37m\u001b[0m \u001b[1m0s\u001b[0m 94ms/step - accuracy: 0.1217 - loss: 0.6878 - val_accuracy: 0.2857 - val_loss: 0.6820\n",
      "Epoch 8/50\n",
      "\u001b[1m2/2\u001b[0m \u001b[32m━━━━━━━━━━━━━━━━━━━━\u001b[0m\u001b[37m\u001b[0m \u001b[1m0s\u001b[0m 110ms/step - accuracy: 0.1425 - loss: 0.6858 - val_accuracy: 0.2857 - val_loss: 0.6824\n",
      "Epoch 9/50\n",
      "\u001b[1m2/2\u001b[0m \u001b[32m━━━━━━━━━━━━━━━━━━━━\u001b[0m\u001b[37m\u001b[0m \u001b[1m0s\u001b[0m 109ms/step - accuracy: 0.1425 - loss: 0.6857 - val_accuracy: 0.2857 - val_loss: 0.6826\n",
      "Epoch 10/50\n",
      "\u001b[1m2/2\u001b[0m \u001b[32m━━━━━━━━━━━━━━━━━━━━\u001b[0m\u001b[37m\u001b[0m \u001b[1m0s\u001b[0m 87ms/step - accuracy: 0.1692 - loss: 0.6852 - val_accuracy: 0.2857 - val_loss: 0.6828\n",
      "Epoch 11/50\n",
      "\u001b[1m2/2\u001b[0m \u001b[32m━━━━━━━━━━━━━━━━━━━━\u001b[0m\u001b[37m\u001b[0m \u001b[1m0s\u001b[0m 101ms/step - accuracy: 0.1692 - loss: 0.6813 - val_accuracy: 0.2857 - val_loss: 0.6828\n",
      "Epoch 12/50\n",
      "\u001b[1m2/2\u001b[0m \u001b[32m━━━━━━━━━━━━━━━━━━━━\u001b[0m\u001b[37m\u001b[0m \u001b[1m0s\u001b[0m 120ms/step - accuracy: 0.1483 - loss: 0.6806 - val_accuracy: 0.2857 - val_loss: 0.6828\n",
      "Epoch 13/50\n",
      "\u001b[1m2/2\u001b[0m \u001b[32m━━━━━━━━━━━━━━━━━━━━\u001b[0m\u001b[37m\u001b[0m \u001b[1m0s\u001b[0m 126ms/step - accuracy: 0.1483 - loss: 0.6819 - val_accuracy: 0.2857 - val_loss: 0.6827\n",
      "Epoch 14/50\n",
      "\u001b[1m2/2\u001b[0m \u001b[32m━━━━━━━━━━━━━━━━━━━━\u001b[0m\u001b[37m\u001b[0m \u001b[1m0s\u001b[0m 117ms/step - accuracy: 0.1958 - loss: 0.6808 - val_accuracy: 0.2857 - val_loss: 0.6824\n",
      "Epoch 15/50\n",
      "\u001b[1m2/2\u001b[0m \u001b[32m━━━━━━━━━━━━━━━━━━━━\u001b[0m\u001b[37m\u001b[0m \u001b[1m0s\u001b[0m 87ms/step - accuracy: 0.2167 - loss: 0.6779 - val_accuracy: 0.2857 - val_loss: 0.6822\n",
      "Epoch 16/50\n",
      "\u001b[1m2/2\u001b[0m \u001b[32m━━━━━━━━━━━━━━━━━━━━\u001b[0m\u001b[37m\u001b[0m \u001b[1m0s\u001b[0m 83ms/step - accuracy: 0.2225 - loss: 0.6764 - val_accuracy: 0.2857 - val_loss: 0.6820\n",
      "Epoch 17/50\n",
      "\u001b[1m2/2\u001b[0m \u001b[32m━━━━━━━━━━━━━━━━━━━━\u001b[0m\u001b[37m\u001b[0m \u001b[1m0s\u001b[0m 88ms/step - accuracy: 0.2225 - loss: 0.6771 - val_accuracy: 0.2857 - val_loss: 0.6817\n",
      "Epoch 18/50\n",
      "\u001b[1m2/2\u001b[0m \u001b[32m━━━━━━━━━━━━━━━━━━━━\u001b[0m\u001b[37m\u001b[0m \u001b[1m0s\u001b[0m 81ms/step - accuracy: 0.2433 - loss: 0.6721 - val_accuracy: 0.2857 - val_loss: 0.6815\n",
      "Epoch 19/50\n",
      "\u001b[1m2/2\u001b[0m \u001b[32m━━━━━━━━━━━━━━━━━━━━\u001b[0m\u001b[37m\u001b[0m \u001b[1m0s\u001b[0m 106ms/step - accuracy: 0.2225 - loss: 0.6727 - val_accuracy: 0.2857 - val_loss: 0.6812\n",
      "Epoch 20/50\n",
      "\u001b[1m2/2\u001b[0m \u001b[32m━━━━━━━━━━━━━━━━━━━━\u001b[0m\u001b[37m\u001b[0m \u001b[1m0s\u001b[0m 101ms/step - accuracy: 0.2433 - loss: 0.6711 - val_accuracy: 0.2857 - val_loss: 0.6808\n",
      "Epoch 21/50\n",
      "\u001b[1m2/2\u001b[0m \u001b[32m━━━━━━━━━━━━━━━━━━━━\u001b[0m\u001b[37m\u001b[0m \u001b[1m0s\u001b[0m 78ms/step - accuracy: 0.2225 - loss: 0.6725 - val_accuracy: 0.2857 - val_loss: 0.6804\n",
      "Epoch 22/50\n",
      "\u001b[1m2/2\u001b[0m \u001b[32m━━━━━━━━━━━━━━━━━━━━\u001b[0m\u001b[37m\u001b[0m \u001b[1m0s\u001b[0m 98ms/step - accuracy: 0.2225 - loss: 0.6708 - val_accuracy: 0.1429 - val_loss: 0.6799\n",
      "Epoch 23/50\n",
      "\u001b[1m2/2\u001b[0m \u001b[32m━━━━━━━━━━━━━━━━━━━━\u001b[0m\u001b[37m\u001b[0m \u001b[1m0s\u001b[0m 126ms/step - accuracy: 0.2225 - loss: 0.6719 - val_accuracy: 0.1429 - val_loss: 0.6795\n",
      "Epoch 24/50\n",
      "\u001b[1m2/2\u001b[0m \u001b[32m━━━━━━━━━━━━━━━━━━━━\u001b[0m\u001b[37m\u001b[0m \u001b[1m0s\u001b[0m 99ms/step - accuracy: 0.2642 - loss: 0.6662 - val_accuracy: 0.1429 - val_loss: 0.6792\n",
      "Epoch 25/50\n",
      "\u001b[1m2/2\u001b[0m \u001b[32m━━━━━━━━━━━━━━━━━━━━\u001b[0m\u001b[37m\u001b[0m \u001b[1m0s\u001b[0m 77ms/step - accuracy: 0.2017 - loss: 0.6660 - val_accuracy: 0.1429 - val_loss: 0.6788\n",
      "Epoch 26/50\n",
      "\u001b[1m2/2\u001b[0m \u001b[32m━━━━━━━━━━━━━━━━━━━━\u001b[0m\u001b[37m\u001b[0m \u001b[1m0s\u001b[0m 73ms/step - accuracy: 0.2433 - loss: 0.6660 - val_accuracy: 0.1429 - val_loss: 0.6782\n",
      "Epoch 27/50\n",
      "\u001b[1m2/2\u001b[0m \u001b[32m━━━━━━━━━━━━━━━━━━━━\u001b[0m\u001b[37m\u001b[0m \u001b[1m0s\u001b[0m 85ms/step - accuracy: 0.2225 - loss: 0.6648 - val_accuracy: 0.1429 - val_loss: 0.6777\n",
      "Epoch 28/50\n",
      "\u001b[1m2/2\u001b[0m \u001b[32m━━━━━━━━━━━━━━━━━━━━\u001b[0m\u001b[37m\u001b[0m \u001b[1m0s\u001b[0m 75ms/step - accuracy: 0.2225 - loss: 0.6647 - val_accuracy: 0.1429 - val_loss: 0.6770\n",
      "Epoch 29/50\n",
      "\u001b[1m2/2\u001b[0m \u001b[32m━━━━━━━━━━━━━━━━━━━━\u001b[0m\u001b[37m\u001b[0m \u001b[1m0s\u001b[0m 82ms/step - accuracy: 0.2433 - loss: 0.6612 - val_accuracy: 0.1429 - val_loss: 0.6764\n",
      "Epoch 30/50\n",
      "\u001b[1m2/2\u001b[0m \u001b[32m━━━━━━━━━━━━━━━━━━━━\u001b[0m\u001b[37m\u001b[0m \u001b[1m0s\u001b[0m 77ms/step - accuracy: 0.2642 - loss: 0.6599 - val_accuracy: 0.1429 - val_loss: 0.6756\n",
      "Epoch 31/50\n",
      "\u001b[1m2/2\u001b[0m \u001b[32m━━━━━━━━━━━━━━━━━━━━\u001b[0m\u001b[37m\u001b[0m \u001b[1m0s\u001b[0m 78ms/step - accuracy: 0.2642 - loss: 0.6572 - val_accuracy: 0.1429 - val_loss: 0.6747\n",
      "Epoch 32/50\n",
      "\u001b[1m2/2\u001b[0m \u001b[32m━━━━━━━━━━━━━━━━━━━━\u001b[0m\u001b[37m\u001b[0m \u001b[1m0s\u001b[0m 97ms/step - accuracy: 0.2642 - loss: 0.6619 - val_accuracy: 0.1429 - val_loss: 0.6739\n",
      "Epoch 33/50\n",
      "\u001b[1m2/2\u001b[0m \u001b[32m━━━━━━━━━━━━━━━━━━━━\u001b[0m\u001b[37m\u001b[0m \u001b[1m0s\u001b[0m 79ms/step - accuracy: 0.2433 - loss: 0.6564 - val_accuracy: 0.1429 - val_loss: 0.6729\n",
      "Epoch 34/50\n",
      "\u001b[1m2/2\u001b[0m \u001b[32m━━━━━━━━━━━━━━━━━━━━\u001b[0m\u001b[37m\u001b[0m \u001b[1m0s\u001b[0m 104ms/step - accuracy: 0.2225 - loss: 0.6575 - val_accuracy: 0.1429 - val_loss: 0.6719\n",
      "Epoch 35/50\n",
      "\u001b[1m2/2\u001b[0m \u001b[32m━━━━━━━━━━━━━━━━━━━━\u001b[0m\u001b[37m\u001b[0m \u001b[1m0s\u001b[0m 116ms/step - accuracy: 0.2433 - loss: 0.6527 - val_accuracy: 0.1429 - val_loss: 0.6710\n",
      "Epoch 36/50\n",
      "\u001b[1m2/2\u001b[0m \u001b[32m━━━━━━━━━━━━━━━━━━━━\u001b[0m\u001b[37m\u001b[0m \u001b[1m0s\u001b[0m 105ms/step - accuracy: 0.2850 - loss: 0.6533 - val_accuracy: 0.1429 - val_loss: 0.6702\n",
      "Epoch 37/50\n",
      "\u001b[1m2/2\u001b[0m \u001b[32m━━━━━━━━━━━━━━━━━━━━\u001b[0m\u001b[37m\u001b[0m \u001b[1m0s\u001b[0m 92ms/step - accuracy: 0.2433 - loss: 0.6562 - val_accuracy: 0.1429 - val_loss: 0.6693\n",
      "Epoch 38/50\n",
      "\u001b[1m2/2\u001b[0m \u001b[32m━━━━━━━━━━━━━━━━━━━━\u001b[0m\u001b[37m\u001b[0m \u001b[1m0s\u001b[0m 85ms/step - accuracy: 0.2642 - loss: 0.6498 - val_accuracy: 0.1429 - val_loss: 0.6685\n",
      "Epoch 39/50\n",
      "\u001b[1m2/2\u001b[0m \u001b[32m━━━━━━━━━━━━━━━━━━━━\u001b[0m\u001b[37m\u001b[0m \u001b[1m0s\u001b[0m 84ms/step - accuracy: 0.2642 - loss: 0.6491 - val_accuracy: 0.1429 - val_loss: 0.6677\n",
      "Epoch 40/50\n",
      "\u001b[1m2/2\u001b[0m \u001b[32m━━━━━━━━━━━━━━━━━━━━\u001b[0m\u001b[37m\u001b[0m \u001b[1m0s\u001b[0m 98ms/step - accuracy: 0.2017 - loss: 0.6445 - val_accuracy: 0.1429 - val_loss: 0.6671\n",
      "Epoch 41/50\n",
      "\u001b[1m2/2\u001b[0m \u001b[32m━━━━━━━━━━━━━━━━━━━━\u001b[0m\u001b[37m\u001b[0m \u001b[1m0s\u001b[0m 120ms/step - accuracy: 0.2433 - loss: 0.6494 - val_accuracy: 0.1429 - val_loss: 0.6666\n",
      "Epoch 42/50\n",
      "\u001b[1m2/2\u001b[0m \u001b[32m━━━━━━━━━━━━━━━━━━━━\u001b[0m\u001b[37m\u001b[0m \u001b[1m0s\u001b[0m 102ms/step - accuracy: 0.2433 - loss: 0.6443 - val_accuracy: 0.1429 - val_loss: 0.6660\n",
      "Epoch 43/50\n",
      "\u001b[1m2/2\u001b[0m \u001b[32m━━━━━━━━━━━━━━━━━━━━\u001b[0m\u001b[37m\u001b[0m \u001b[1m0s\u001b[0m 80ms/step - accuracy: 0.2642 - loss: 0.6430 - val_accuracy: 0.1429 - val_loss: 0.6651\n",
      "Epoch 44/50\n",
      "\u001b[1m2/2\u001b[0m \u001b[32m━━━━━━━━━━━━━━━━━━━━\u001b[0m\u001b[37m\u001b[0m \u001b[1m0s\u001b[0m 83ms/step - accuracy: 0.2642 - loss: 0.6431 - val_accuracy: 0.1429 - val_loss: 0.6644\n",
      "Epoch 45/50\n",
      "\u001b[1m2/2\u001b[0m \u001b[32m━━━━━━━━━━━━━━━━━━━━\u001b[0m\u001b[37m\u001b[0m \u001b[1m0s\u001b[0m 87ms/step - accuracy: 0.2225 - loss: 0.6417 - val_accuracy: 0.1429 - val_loss: 0.6635\n",
      "Epoch 46/50\n",
      "\u001b[1m2/2\u001b[0m \u001b[32m━━━━━━━━━━━━━━━━━━━━\u001b[0m\u001b[37m\u001b[0m \u001b[1m0s\u001b[0m 94ms/step - accuracy: 0.2017 - loss: 0.6382 - val_accuracy: 0.1429 - val_loss: 0.6626\n",
      "Epoch 47/50\n",
      "\u001b[1m2/2\u001b[0m \u001b[32m━━━━━━━━━━━━━━━━━━━━\u001b[0m\u001b[37m\u001b[0m \u001b[1m0s\u001b[0m 82ms/step - accuracy: 0.2433 - loss: 0.6423 - val_accuracy: 0.1429 - val_loss: 0.6617\n",
      "Epoch 48/50\n",
      "\u001b[1m2/2\u001b[0m \u001b[32m━━━━━━━━━━━━━━━━━━━━\u001b[0m\u001b[37m\u001b[0m \u001b[1m0s\u001b[0m 98ms/step - accuracy: 0.2225 - loss: 0.6408 - val_accuracy: 0.2857 - val_loss: 0.6608\n",
      "Epoch 49/50\n",
      "\u001b[1m2/2\u001b[0m \u001b[32m━━━━━━━━━━━━━━━━━━━━\u001b[0m\u001b[37m\u001b[0m \u001b[1m0s\u001b[0m 121ms/step - accuracy: 0.2433 - loss: 0.6378 - val_accuracy: 0.2857 - val_loss: 0.6602\n",
      "Epoch 50/50\n",
      "\u001b[1m2/2\u001b[0m \u001b[32m━━━━━━━━━━━━━━━━━━━━\u001b[0m\u001b[37m\u001b[0m \u001b[1m0s\u001b[0m 105ms/step - accuracy: 0.1958 - loss: 0.6354 - val_accuracy: 0.2857 - val_loss: 0.6596\n"
     ]
    }
   ],
   "source": [
    "history = model.fit(X_train, y_train, \n",
    "                    epochs=50,                 # Nombre d'itérations sur l'ensemble d'entraînement\n",
    "                    batch_size=16,             # Taille des lots pour la descente de gradient\n",
    "                    validation_data=(X_test, y_test))  # Données de validation"
   ]
  },
  {
   "cell_type": "code",
   "execution_count": 10,
   "id": "19879ce9",
   "metadata": {},
   "outputs": [
    {
     "name": "stdout",
     "output_type": "stream",
     "text": [
      "\u001b[1m1/1\u001b[0m \u001b[32m━━━━━━━━━━━━━━━━━━━━\u001b[0m\u001b[37m\u001b[0m \u001b[1m0s\u001b[0m 75ms/step - accuracy: 0.2857 - loss: 0.6596\n",
      "Perte sur l'ensemble de test : 0.6595969796180725\n",
      "Précision sur l'ensemble de test : 0.2857142984867096\n"
     ]
    }
   ],
   "source": [
    "# Évaluer le modèle sur l'ensemble de test\n",
    "loss, accuracy = model.evaluate(X_test, y_test)\n",
    "print(f\"Perte sur l'ensemble de test : {loss}\")\n",
    "print(f\"Précision sur l'ensemble de test : {accuracy}\")"
   ]
  },
  {
   "cell_type": "code",
   "execution_count": 11,
   "id": "8e8092ff",
   "metadata": {},
   "outputs": [
    {
     "data": {
      "image/png": "[encoded data removed]",
      "text/plain": [
       "<Figure size 640x480 with 1 Axes>"
      ]
     },
     "metadata": {},
     "output_type": "display_data"
    },
    {
     "data": {
      "image/png": "[encoded data removed]",
      "text/plain": [
       "<Figure size 640x480 with 1 Axes>"
      ]
     },
     "metadata": {},
     "output_type": "display_data"
    }
   ],
   "source": [
    "import matplotlib.pyplot as plt\n",
    "\n",
    "# Tracer la perte\n",
    "plt.plot(history.history['loss'], label='Perte (entraînement)')\n",
    "plt.plot(history.history['val_loss'], label='Perte (validation)')\n",
    "plt.title('Perte pendant l\\'entraînement')\n",
    "plt.xlabel('Epochs')\n",
    "plt.ylabel('Perte')\n",
    "plt.legend()\n",
    "plt.show()\n",
    "\n",
    "# Tracer la précision\n",
    "plt.plot(history.history['accuracy'], label='Précision (entraînement)')\n",
    "plt.plot(history.history['val_accuracy'], label='Précision (validation)')\n",
    "plt.title('Précision pendant l\\'entraînement')\n",
    "plt.xlabel('Epochs')\n",
    "plt.ylabel('Précision')\n",
    "plt.legend()\n",
    "plt.show()"
   ]
  },
  {
   "cell_type": "code",
   "execution_count": 12,
   "id": "be9a8358",
   "metadata": {},
   "outputs": [
    {
     "name": "stdout",
     "output_type": "stream",
     "text": [
      "\u001b[1m1/1\u001b[0m \u001b[32m━━━━━━━━━━━━━━━━━━━━\u001b[0m\u001b[37m\u001b[0m \u001b[1m0s\u001b[0m 94ms/step\n",
      "Prédiction du modèle : [[1. 0. 1. 0.]]\n"
     ]
    }
   ],
   "source": [
    "# Exemple de mot de code avec une erreur\n",
    "new_code = [1, 0, 1, 1, 0, 1, 0]  # Remplacez par votre propre mot de code\n",
    "new_code = np.array([new_code])    # Convertir en format adapté pour le modèle\n",
    "\n",
    "# Faire une prédiction\n",
    "prediction = model.predict(new_code)\n",
    "print(\"Prédiction du modèle :\", np.round(prediction))  # Arrondir les valeurs pour obtenir des bits"
   ]
  },
  {
   "cell_type": "code",
   "execution_count": 13,
   "id": "45dc476d",
   "metadata": {},
   "outputs": [
    {
     "name": "stdout",
     "output_type": "stream",
     "text": [
      "\u001b[1m1/1\u001b[0m \u001b[32m━━━━━━━━━━━━━━━━━━━━\u001b[0m\u001b[37m\u001b[0m \u001b[1m0s\u001b[0m 48ms/step\n",
      "Prédiction du modèle (avec erreur) : [[1. 0. 1. 0.]]\n"
     ]
    }
   ],
   "source": [
    "new_code_with_error = [1, 0, 0, 1, 0, 1, 0]  # Erreur dans le 3ème bit\n",
    "new_code_with_error = np.array([new_code_with_error])  # Convertir en format adapté\n",
    "prediction_with_error = model.predict(new_code_with_error)\n",
    "print(\"Prédiction du modèle (avec erreur) :\", np.round(prediction_with_error))"
   ]
  },
  {
   "cell_type": "code",
   "execution_count": null,
   "id": "199a30eb",
   "metadata": {},
   "outputs": [],
   "source": []
  }
 ],
 "metadata": {
  "kernelspec": {
   "display_name": "Python (tensorflow_env)",
   "language": "python",
   "name": "tensorflow_env"
  },
  "language_info": {
   "codemirror_mode": {
    "name": "ipython",
    "version": 3
   },
   "file_extension": ".py",
   "mimetype": "text/x-python",
   "name": "python",
   "nbconvert_exporter": "python",
   "pygments_lexer": "ipython3",
   "version": "3.12.3"
  }
 },
 "nbformat": 4,
 "nbformat_minor": 5
}
