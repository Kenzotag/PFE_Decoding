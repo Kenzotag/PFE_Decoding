{
 "cells": [
  {
   "cell_type": "code",
   "execution_count": 4,
   "id": "34168ddd-b23c-4f04-b028-6ef04e447864",
   "metadata": {},
   "outputs": [],
   "source": [
    "# Génération de la base de donnes en csv"
   ]
  },
  {
   "cell_type": "code",
   "execution_count": 5,
   "id": "e597929f-69e9-4c05-9309-c038f39ab60e",
   "metadata": {},
   "outputs": [
    {
     "name": "stdout",
     "output_type": "stream",
     "text": [
      "[0, 0, 0, 0, 0, 0, 0] [0, 0, 0, 0]\n",
      "[1, 0, 0, 0, 0, 0, 0] [0, 0, 0, 0]\n",
      "[0, 1, 0, 0, 0, 0, 0] [0, 0, 0, 0]\n",
      "[0, 0, 1, 0, 0, 0, 0] [0, 0, 0, 0]\n",
      "[0, 0, 0, 1, 0, 0, 0] [0, 0, 0, 0]\n",
      "[0, 0, 0, 0, 1, 0, 0] [0, 0, 0, 0]\n",
      "[0, 0, 0, 0, 0, 1, 0] [0, 0, 0, 0]\n",
      "[0, 0, 0, 0, 0, 0, 1] [0, 0, 0, 0]\n",
      "[1, 1, 0, 1, 0, 0, 1] [0, 0, 0, 1]\n",
      "[0, 1, 0, 1, 0, 0, 1] [0, 0, 0, 1]\n"
     ]
    }
   ],
   "source": [
    "import itertools\n",
    "import numpy as np\n",
    "\n",
    "# calcul des bits de parité\n",
    "def hamming_7_4_encode(data):\n",
    "    d1, d2, d3, d4 = data\n",
    "    p1 = d1 ^ d2 ^ d4  \n",
    "    p2 = d1 ^ d3 ^ d4  \n",
    "    p3 = d2 ^ d3 ^ d4  \n",
    "    return [p1, p2, d1, p3, d2, d3, d4]\n",
    "\n",
    "# générer toutes les combinaisons des erreurs\n",
    "def generate_single_bit_errors(code):\n",
    "    errors = []\n",
    "    for i in range(7):\n",
    "        error = code.copy()\n",
    "        error[i] = 1 - error[i]  # Inverser le bit i\n",
    "        errors.append(error)\n",
    "    return errors\n",
    "\n",
    "# Générer toutes les combinaisons de 4 bits de données\n",
    "data_bits = list(itertools.product([0, 1], repeat=4))\n",
    "\n",
    "dataset = []\n",
    "\n",
    "for data in data_bits:\n",
    "    # Encoder les 4 bits en hamming 7 bits\n",
    "    hamming_code = hamming_7_4_encode(data)\n",
    "    \n",
    "    # Ajouter le mot de code sans erreur au dataset\n",
    "    dataset.append((hamming_code, list(data)))\n",
    "    \n",
    "    # Générer toutes les erreurs possibles\n",
    "    errors = generate_single_bit_errors(hamming_code)\n",
    "    \n",
    "    # Ajouter les mots de code avec erreurs au dataset\n",
    "    for error in errors:\n",
    "        dataset.append((error, list(data)))\n",
    "\n",
    "dataset = np.array(dataset, dtype=object)\n",
    "\n",
    "\n",
    "for i in range(10):\n",
    "    print(dataset[i, 0],dataset[i, 1])"
   ]
  },
  {
   "cell_type": "code",
   "execution_count": 6,
   "id": "6cea44df-c069-4fc6-8cbb-eae258d583bb",
   "metadata": {
    "scrolled": true
   },
   "outputs": [
    {
     "name": "stdout",
     "output_type": "stream",
     "text": [
      "                  Entree        Sortie\n",
      "0  [0, 0, 0, 0, 0, 0, 0]  [0, 0, 0, 0]\n",
      "1  [1, 0, 0, 0, 0, 0, 0]  [0, 0, 0, 0]\n",
      "2  [0, 1, 0, 0, 0, 0, 0]  [0, 0, 0, 0]\n",
      "3  [0, 0, 1, 0, 0, 0, 0]  [0, 0, 0, 0]\n",
      "4  [0, 0, 0, 1, 0, 0, 0]  [0, 0, 0, 0]\n"
     ]
    }
   ],
   "source": [
    "# Convertir la base de données en DataFrame\n",
    "df = pd.DataFrame(dataset, columns=[\"Entree\", \"Sortie\"])\n",
    "print(df.head())"
   ]
  },
  {
   "cell_type": "code",
   "execution_count": 7,
   "id": "f2fc31a6-677e-4df8-b1c5-47f9f6bf5d56",
   "metadata": {},
   "outputs": [
    {
     "name": "stdout",
     "output_type": "stream",
     "text": [
      "Base de données exportée en CSV\n"
     ]
    }
   ],
   "source": [
    "# Exporter en CSV\n",
    "df.to_csv(\"hamming_dataset.csv\", index=False)\n",
    "print(\"Base de données exportée en CSV\")"
   ]
  }
 ],
 "metadata": {
  "kernelspec": {
   "display_name": "Python (tensorflow_env)",
   "language": "python",
   "name": "tensorflow_env"
  },
  "language_info": {
   "codemirror_mode": {
    "name": "ipython",
    "version": 3
   },
   "file_extension": ".py",
   "mimetype": "text/x-python",
   "name": "python",
   "nbconvert_exporter": "python",
   "pygments_lexer": "ipython3",
   "version": "3.12.3"
  }
 },
 "nbformat": 4,
 "nbformat_minor": 5
}
