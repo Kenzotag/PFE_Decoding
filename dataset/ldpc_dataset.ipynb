{
 "cells": [
  {
   "cell_type": "code",
   "execution_count": 1,
   "id": "eec3ac71",
   "metadata": {},
   "outputs": [],
   "source": [
    "#Génération du jeu de données LDPC pour un mots de taille fixe , codé bruité et modulé(BPSK)"
   ]
  },
  {
   "cell_type": "code",
   "execution_count": 54,
   "id": "3faad38f",
   "metadata": {},
   "outputs": [],
   "source": [
    "import numpy as np\n",
    "from pyldpc import make_ldpc, encode\n",
    "import h5py"
   ]
  },
  {
   "cell_type": "code",
   "execution_count": 92,
   "id": "48c36bb6",
   "metadata": {},
   "outputs": [],
   "source": [
    "#paramètre LDPC\n",
    "n = 200\n",
    "d_v = 11\n",
    "d_c = 20\n",
    "\n",
    "H, G = make_ldpc(n, d_v, d_c, systematic=True, sparse=True)\n",
    "\n",
    "k = G.shape[1]\n",
    "\n",
    "# Paramètres du dataset\n",
    "snr_values = [0, 2, 4, 6]  # SNR en dB\n",
    "samples_per_snr = 10000     # Nombre de blocs par SNR\n"
   ]
  },
  {
   "cell_type": "code",
   "execution_count": 93,
   "id": "47f4283a",
   "metadata": {},
   "outputs": [
    {
     "data": {
      "text/plain": [
       "(200, 100)"
      ]
     },
     "execution_count": 93,
     "metadata": {},
     "output_type": "execute_result"
    }
   ],
   "source": [
    "G.shape"
   ]
  },
  {
   "cell_type": "code",
   "execution_count": 94,
   "id": "98855f9c",
   "metadata": {},
   "outputs": [
    {
     "data": {
      "text/plain": [
       "100"
      ]
     },
     "execution_count": 94,
     "metadata": {},
     "output_type": "execute_result"
    }
   ],
   "source": [
    "k"
   ]
  },
  {
   "cell_type": "code",
   "execution_count": 95,
   "id": "13abe4e1",
   "metadata": {},
   "outputs": [],
   "source": [
    "# Fonction pour moduler en BPSK\n",
    "def bpsk_modulate(bits):\n",
    "    return 2 * bits - 1  "
   ]
  },
  {
   "cell_type": "code",
   "execution_count": 96,
   "id": "2272fb16",
   "metadata": {},
   "outputs": [],
   "source": [
    "# Fonction pour ajouter du bruit AWGN\n",
    "def add_awgn(signal, snr_db):\n",
    "    snr_linear = 10**(snr_db / 10)\n",
    "    power_signal = np.mean(signal**2)\n",
    "    noise_power = power_signal / snr_linear\n",
    "    noise = np.sqrt(noise_power) * np.random.randn(*signal.shape)\n",
    "    return signal + noise\n"
   ]
  },
  {
   "cell_type": "code",
   "execution_count": 99,
   "id": "724259f3",
   "metadata": {},
   "outputs": [
    {
     "name": "stdout",
     "output_type": "stream",
     "text": [
      "Dataset HDF5 généré avec modulation BPSK : ldpc_dataset.h5\n"
     ]
    }
   ],
   "source": [
    "# Créer un fichier HDF5 pour stocker le dataset\n",
    "with h5py.File(r'ldpc_dataset.h5', 'w') as hf:\n",
    "\n",
    "    # Créer des datasets pour les symboles reçus et les bits d'information\n",
    "    code_word = hf.create_dataset(\n",
    "        'code_word', \n",
    "        shape=(len(snr_values) * samples_per_snr, n), \n",
    "        dtype='float32'\n",
    "    )\n",
    "    message = hf.create_dataset(\n",
    "        'message', \n",
    "        shape=(len(snr_values) * samples_per_snr, k), \n",
    "        dtype='int8'\n",
    "    )\n",
    "    \n",
    "    # Génération et stockage des données\n",
    "    idx = 0\n",
    "    for snr_db in snr_values:\n",
    "        for _ in range(samples_per_snr):\n",
    "            # Génération d'un message aléatoire de taille k\n",
    "            bits = np.random.randint(0, 2, k)\n",
    "            \n",
    "            # Encodage LDPC\n",
    "            codeword = encode(G, bits, snr_db)\n",
    "\n",
    "            # Modulation BPSK\n",
    "            modulated_signal = bpsk_modulate(codeword)\n",
    "\n",
    "            # Ajout du bruit AWGN\n",
    "            received_signal = add_awgn(modulated_signal, snr_db)\n",
    "\n",
    "            # Stockage dans le fichier HDF5\n",
    "            code_word[idx] = received_signal\n",
    "            message[idx] = bits\n",
    "            idx += 1\n",
    "\n",
    "print(\"Dataset HDF5 généré avec modulation BPSK : ldpc_dataset.h5\")\n"
   ]
  },
  {
   "cell_type": "code",
   "execution_count": null,
   "id": "546284cb",
   "metadata": {},
   "outputs": [],
   "source": []
  }
 ],
 "metadata": {
  "kernelspec": {
   "display_name": "Python (tensorflow_env)",
   "language": "python",
   "name": "tensorflow_env"
  },
  "language_info": {
   "codemirror_mode": {
    "name": "ipython",
    "version": 3
   },
   "file_extension": ".py",
   "mimetype": "text/x-python",
   "name": "python",
   "nbconvert_exporter": "python",
   "pygments_lexer": "ipython3",
   "version": "3.12.3"
  }
 },
 "nbformat": 4,
 "nbformat_minor": 5
}
