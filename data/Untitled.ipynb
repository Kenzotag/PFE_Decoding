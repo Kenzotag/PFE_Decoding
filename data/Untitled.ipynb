{
 "cells": [
  {
   "cell_type": "code",
   "execution_count": 9,
   "id": "7f3110d9",
   "metadata": {},
   "outputs": [
    {
     "ename": "ValueError",
     "evalue": "shapes (15,6) and (32,) not aligned: 6 (dim 1) != 32 (dim 0)",
     "output_type": "error",
     "traceback": [
      "\u001b[1;31m---------------------------------------------------------------------------\u001b[0m",
      "\u001b[1;31mValueError\u001b[0m                                Traceback (most recent call last)",
      "Cell \u001b[1;32mIn[9], line 54\u001b[0m\n\u001b[0;32m     51\u001b[0m mot_original_binaire_float \u001b[38;5;241m=\u001b[39m mot_original_binaire\u001b[38;5;241m.\u001b[39mastype(np\u001b[38;5;241m.\u001b[39mfloat64)  \u001b[38;5;66;03m# Conversion en float\u001b[39;00m\n\u001b[0;32m     53\u001b[0m \u001b[38;5;66;03m# 4. Encodage LDPC\u001b[39;00m\n\u001b[1;32m---> 54\u001b[0m mot_code_ldpc \u001b[38;5;241m=\u001b[39m encode(G, mot_original_binaire, snr)\n\u001b[0;32m     56\u001b[0m \u001b[38;5;66;03m# 5. Ajouter du bruit gaussien\u001b[39;00m\n\u001b[0;32m     57\u001b[0m signal_puissance \u001b[38;5;241m=\u001b[39m np\u001b[38;5;241m.\u001b[39mmean(mot_code_ldpc\u001b[38;5;241m*\u001b[39m\u001b[38;5;241m*\u001b[39m\u001b[38;5;241m2\u001b[39m)\n",
      "File \u001b[1;32m~\\anaconda3\\Lib\\site-packages\\pyldpc\\encoder.py:56\u001b[0m, in \u001b[0;36mencode\u001b[1;34m(tG, v, snr, seed)\u001b[0m\n\u001b[0;32m     53\u001b[0m n, k \u001b[38;5;241m=\u001b[39m tG\u001b[38;5;241m.\u001b[39mshape\n\u001b[0;32m     55\u001b[0m rng \u001b[38;5;241m=\u001b[39m utils\u001b[38;5;241m.\u001b[39mcheck_random_state(seed)\n\u001b[1;32m---> 56\u001b[0m d \u001b[38;5;241m=\u001b[39m utils\u001b[38;5;241m.\u001b[39mbinaryproduct(tG, v)\n\u001b[0;32m     57\u001b[0m x \u001b[38;5;241m=\u001b[39m (\u001b[38;5;241m-\u001b[39m\u001b[38;5;241m1\u001b[39m) \u001b[38;5;241m*\u001b[39m\u001b[38;5;241m*\u001b[39m d\n\u001b[0;32m     59\u001b[0m sigma \u001b[38;5;241m=\u001b[39m \u001b[38;5;241m10\u001b[39m \u001b[38;5;241m*\u001b[39m\u001b[38;5;241m*\u001b[39m (\u001b[38;5;241m-\u001b[39m snr \u001b[38;5;241m/\u001b[39m \u001b[38;5;241m20\u001b[39m)\n",
      "File \u001b[1;32m~\\anaconda3\\Lib\\site-packages\\pyldpc\\utils.py:30\u001b[0m, in \u001b[0;36mbinaryproduct\u001b[1;34m(X, Y)\u001b[0m\n\u001b[0;32m     28\u001b[0m \u001b[38;5;28;01mdef\u001b[39;00m \u001b[38;5;21mbinaryproduct\u001b[39m(X, Y):\n\u001b[0;32m     29\u001b[0m \u001b[38;5;250m    \u001b[39m\u001b[38;5;124;03m\"\"\"Compute a matrix-matrix / vector product in Z/2Z.\"\"\"\u001b[39;00m\n\u001b[1;32m---> 30\u001b[0m     A \u001b[38;5;241m=\u001b[39m X\u001b[38;5;241m.\u001b[39mdot(Y)\n\u001b[0;32m     31\u001b[0m     \u001b[38;5;28;01mtry\u001b[39;00m:\n\u001b[0;32m     32\u001b[0m         A \u001b[38;5;241m=\u001b[39m A\u001b[38;5;241m.\u001b[39mtoarray()\n",
      "\u001b[1;31mValueError\u001b[0m: shapes (15,6) and (32,) not aligned: 6 (dim 1) != 32 (dim 0)"
     ]
    }
   ],
   "source": [
    "import numpy as np\n",
    "import pandas as pd\n",
    "from pyldpc import make_ldpc, encode\n",
    "import random\n",
    "import string\n",
    "\n",
    "# Paramètres du codage LDPC\n",
    "n = 15  # Longueur du bloc codé\n",
    "d_v = 4  # Degré des variables\n",
    "d_c = 5  # Degré des contrôles\n",
    "snr = 20  # SNR en dB\n",
    "H, G = make_ldpc(n, d_v, d_c, systematic=True, sparse=True)\n",
    "\n",
    "k = G.shape[1]  # Longueur du message original\n",
    "\n",
    "# Fonction pour générer un mot aléatoire de longueur variable\n",
    "def random_word(length):\n",
    "    return ''.join(random.choices(string.ascii_lowercase + string.digits, k=length))\n",
    "\n",
    "# Fonction pour convertir un mot en binaire (UTF-8 ou ASCII)\n",
    "def word_to_binary(word, encoding=\"utf-8\"):\n",
    "    return np.array([int(bit) for bit in ''.join(format(ord(char), '08b') for char in word)], dtype=np.uint8)\n",
    "\n",
    "# Longueur des mots aléatoires (entre 0 et 10)\n",
    "longueur_min_mot = 0\n",
    "longueur_max_mot = 10\n",
    "\n",
    "# Nombre d'échantillons\n",
    "nombre_echantillons = 1000\n",
    "\n",
    "# Listes pour stocker les données\n",
    "train_data_bruitee = []\n",
    "train_data_originale = []\n",
    "labels = []\n",
    "\n",
    "# Génération des échantillons\n",
    "for _ in range(nombre_echantillons):\n",
    "    # 1. Générer un mot aléatoire de longueur entre 0 et 10\n",
    "    longueur_mot = random.randint(longueur_min_mot, longueur_max_mot)\n",
    "    mot_original = random_word(longueur_mot)\n",
    "    \n",
    "    # 2. Convertir le mot en binaire\n",
    "    mot_original_binaire = word_to_binary(mot_original)\n",
    "    \n",
    "    # 3. Padding du mot original pour correspondre à la longueur k\n",
    "   # if len(mot_original_binaire) < k:\n",
    "   #     mot_original_binaire = np.pad(mot_original_binaire, (0, k - len(mot_original_binaire)), 'constant')\n",
    "    #elif len(mot_original_binaire) > k:\n",
    "     #   mot_original_binaire = mot_original_binaire[:k]  # Tronquer si plus long que k\n",
    "    \n",
    "    mot_original_binaire_float = mot_original_binaire.astype(np.float64)  # Conversion en float\n",
    "\n",
    "    # 4. Encodage LDPC\n",
    "    mot_code_ldpc = encode(G, mot_original_binaire, snr)\n",
    "\n",
    "    # 5. Ajouter du bruit gaussien\n",
    "    signal_puissance = np.mean(mot_code_ldpc**2)\n",
    "    snr_lin = 10**(snr/10)\n",
    "    bruit_puissance = signal_puissance / snr_lin\n",
    "    bruit_std = np.sqrt(bruit_puissance)\n",
    "    bruit_gaussien = np.random.normal(0, bruit_std, size=len(mot_code_ldpc))\n",
    "\n",
    "    # 6. Ajouter le bruit au mot codé\n",
    "    mot_code_bruite = mot_code_ldpc + bruit_gaussien\n",
    "\n",
    "    # 7. Stocker les données dans les listes\n",
    "    train_data_bruitee.append(mot_code_bruite)\n",
    "    train_data_originale.append(mot_original_binaire_float)\n",
    "    labels.append(mot_original)  # Ajouter l'étiquette\n",
    "\n",
    "# Conversion des listes en tableaux NumPy pour pouvoir les manipuler facilement\n",
    "train_data_bruitee = np.array(train_data_bruitee)\n",
    "train_data_originale = np.array(train_data_originale)\n",
    "\n",
    "# Conversion en DataFrame pour faciliter l'exportation en CSV\n",
    "data_dict = {\n",
    "    \"Mot original\": labels,  # Mot original comme étiquette\n",
    "    \"Trame codée bruitée\": [', '.join(map(str, frame)) for frame in train_data_bruitee],\n",
    "    \"Trame binaire originale\": [', '.join(map(str, frame)) for frame in train_data_originale]\n",
    "}\n",
    "\n",
    "df = pd.DataFrame(data_dict)\n",
    "\n",
    "# Exporter le DataFrame au format CSV\n",
    "df.to_csv(\"base_de_donnees_ldpc_mots_aleatoires.csv\", index=False)\n",
    "\n",
    "print(\"\\nBase de données générée et exportée en CSV avec succès!\")\n"
   ]
  },
  {
   "cell_type": "code",
   "execution_count": 6,
   "id": "1c117411",
   "metadata": {},
   "outputs": [],
   "source": [
    "def word_to_binary(word, encoding=\"utf-8\"):\n",
    "    return np.array([int(bit) for bit in ''.join(format(ord(char), '08b') for char in word)], dtype=np.uint8)"
   ]
  },
  {
   "cell_type": "code",
   "execution_count": 8,
   "id": "65e24872",
   "metadata": {},
   "outputs": [
    {
     "data": {
      "text/plain": [
       "array([0, 0, 1, 1, 0, 0, 0, 0], dtype=uint8)"
      ]
     },
     "execution_count": 8,
     "metadata": {},
     "output_type": "execute_result"
    }
   ],
   "source": [
    "word_to_binary(\"0\")"
   ]
  },
  {
   "cell_type": "code",
   "execution_count": null,
   "id": "51caf83e",
   "metadata": {},
   "outputs": [],
   "source": []
  }
 ],
 "metadata": {
  "kernelspec": {
   "display_name": "Python (tensorflow_env)",
   "language": "python",
   "name": "tensorflow_env"
  },
  "language_info": {
   "codemirror_mode": {
    "name": "ipython",
    "version": 3
   },
   "file_extension": ".py",
   "mimetype": "text/x-python",
   "name": "python",
   "nbconvert_exporter": "python",
   "pygments_lexer": "ipython3",
   "version": "3.12.3"
  }
 },
 "nbformat": 4,
 "nbformat_minor": 5
}
